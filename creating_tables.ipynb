{
 "cells": [
  {
   "cell_type": "markdown",
   "metadata": {},
   "source": [
    "# Инициализация пакетов"
   ]
  },
  {
   "cell_type": "code",
   "execution_count": 24,
   "metadata": {},
   "outputs": [],
   "source": [
    "import numpy as np\n",
    "import pandas as pd\n",
    "\n",
    "from datetime import datetime"
   ]
  },
  {
   "cell_type": "code",
   "execution_count": 25,
   "metadata": {},
   "outputs": [],
   "source": [
    "#df = pd.read_excel('data/sample.xlsx')\n",
    "df = pd.read_excel('data/with_coordinates.csv')"
   ]
  },
  {
   "cell_type": "markdown",
   "metadata": {},
   "source": [
    "# Добавление новы переменных"
   ]
  },
  {
   "cell_type": "code",
   "execution_count": 26,
   "metadata": {},
   "outputs": [],
   "source": [
    "# добавление переменной повторное обращение\n",
    "df['repeated'] = df['Вид выполненных работ'].map(lambda i: 'повторное обращение' in i.lower())\n",
    "# добавление переменной невыполненных работ\n",
    "df['unfinished'] = df['Отзыв'].astype('str').map(lambda i: 'работы не выполнены' in i.lower())"
   ]
  },
  {
   "cell_type": "code",
   "execution_count": 24,
   "metadata": {},
   "outputs": [],
   "source": [
    "# оценка жителей\n",
    "# признак инцидента\n",
    "# травм. опасные случаи\n",
    "# Отзыв\n",
    "# Оценка качества выполнения работ\n",
    "# Код оценки качества выполнения ра\n"
   ]
  },
  {
   "cell_type": "markdown",
   "metadata": {},
   "source": [
    "# Разница по времени в минутах между началом и закрытием"
   ]
  },
  {
   "cell_type": "code",
   "execution_count": 27,
   "metadata": {},
   "outputs": [],
   "source": [
    "def count_time_dif(strart_date, end_date):\n",
    "    return (end_date - strart_date).total_seconds()/60\n",
    "\n",
    "created_date = df['Дата создания заявки в формате Timezone']\n",
    "beginin_date = df['Дата начала действия версии заявки в формате Timezone']\n",
    "closure_date = df['Дата закрытия']\n",
    "\n",
    "# removing endings\n",
    "created_date = created_date.map(lambda t_str: t_str[:t_str.index(\".\")])\n",
    "beginin_date = beginin_date.map(lambda t_str: t_str[:t_str.index(\".\")])\n",
    "closure_date = closure_date.map(lambda t_str: t_str[:t_str.index(\".\")])\n",
    "\n",
    "# encoding to datetime\n",
    "created_date = created_date.map(lambda x: datetime.strptime(x, \"%Y-%m-%d %H:%M:%S\")) \n",
    "beginin_date = beginin_date.map(lambda x: datetime.strptime(x, \"%Y-%m-%d %H:%M:%S\")) \n",
    "closure_date = closure_date.map(lambda x: datetime.strptime(x, \"%Y-%m-%d %H:%M:%S\")) \n",
    "\n",
    "df['Дата создания заявки в формате Timezone'] = created_date\n",
    "df['Дата начала действия версии заявки в формате Timezone'] = beginin_date\n",
    "df['Дата закрытия'] = closure_date"
   ]
  },
  {
   "cell_type": "code",
   "execution_count": null,
   "metadata": {},
   "outputs": [],
   "source": [
    "# подсчёт разницы во времени\n",
    "df['created_time_diff'] = df.apply(lambda x: count_time_dif(x['Дата создания заявки в формате Timezone'], x['Дата закрытия']), axis=1)\n",
    "df['beginin_time_diff'] = df.apply(lambda x: count_time_dif(x['Дата начала действия версии заявки в формате Timezone'], x['Дата закрытия']), axis=1)"
   ]
  },
  {
   "cell_type": "markdown",
   "metadata": {},
   "source": [
    "# Критерии анамальности"
   ]
  },
  {
   "cell_type": "code",
   "execution_count": 67,
   "metadata": {},
   "outputs": [],
   "source": [
    "def find_close_request(df, bnd_time_dif = 72*60):\n",
    "    created = False\n",
    "    res = pd.DataFrame(columns = df.columns)\n",
    "    for i in range(df.shape[0]):\n",
    "        for j in range(i):\n",
    "            open_idx = df.columns.get_loc('Дата создания заявки в формате Timezone')\n",
    "            close_idx = df.columns.get_loc('Дата закрытия')\n",
    "            time_dif = count_time_dif(df.iloc[j, open_idx], df.iloc[i, close_idx])\n",
    "            if time_dif < bnd_time_dif:\n",
    "                if not created:\n",
    "                    res = df.append(df.iloc[j, :], ignore_index=True)\n",
    "                    created = True\n",
    "                else:\n",
    "                    res = df.append(df.iloc[j, :], ignore_index=True)\n",
    "    if created:\n",
    "        return res\n",
    "\n",
    "def get_incidents(df, get_filter_mask):\n",
    "  res = df[get_filter_mask(df)]\n",
    "  res = df.groupby([\"Адрес проблемы\", \"Наименование дефекта\"]).filter(lambda x: len(x)>1)\n",
    "  res = res.groupby([\"Адрес проблемы\", \"Наименование дефекта\"], group_keys=False).apply(lambda x: find_close_request(x))\n",
    "  return res"
   ]
  },
  {
   "cell_type": "markdown",
   "metadata": {},
   "source": [
    "## 1 Заявки закрытые без выполнения\n",
    "\n",
    "статус: закрытые/закрытые через МАРМ\n",
    "\n",
    "тип дефектов все кроме: \n",
    "    \n",
    "    - Ввод в эксплуатацию ИПУ воды (замена, демонтаж, пропуск межповерочного интервала),\n",
    "    - Подача документов о поверке ИПУ воды в электронном виде\n",
    "\n",
    "результативность кроме: Выполнено\n",
    "\n",
    "результат закрытия кроме: Аварийное/плановое отключение\n",
    "\n",
    "тип дефекта один и тот же"
   ]
  },
  {
   "cell_type": "code",
   "execution_count": 59,
   "metadata": {},
   "outputs": [],
   "source": [
    "def get_filter_mask_1(df):\n",
    "  active_col = df['Наименование статуса заявки'].astype('str')\n",
    "  mask = active_col.map(lambda i: 'закрыт' in i.lower())\n",
    "\n",
    "  active_col = df['Наименование дефекта'].astype('str')\n",
    "  mask = np.logical_and( mask, \n",
    "                        active_col.map(lambda i:  not ( ('ввод в эксплуатацию ипу воды' in i.lower()) or \n",
    "                                                        ('подача документов о поверке' in i.lower()) ) )\n",
    "                      )\n",
    "\n",
    "  active_col = df['Результативность']\n",
    "  mask = np.logical_and( mask, \n",
    "                        active_col.map(lambda i: 'Выполнено' not in i)\n",
    "                      )\n",
    "\n",
    "  active_col = df['Вид выполненных работ']\n",
    "  mask = np.logical_and( mask, \n",
    "                        active_col.map(lambda i: 'Аварийное/плановое отключение' not in i)\n",
    "                      )\n",
    "  return mask"
   ]
  },
  {
   "cell_type": "code",
   "execution_count": 68,
   "metadata": {},
   "outputs": [
    {
     "name": "stderr",
     "output_type": "stream",
     "text": [
      "/tmp/ipykernel_7671/1467709850.py:11: FutureWarning: The frame.append method is deprecated and will be removed from pandas in a future version. Use pandas.concat instead.\n",
      "  res = df.append(df.iloc[j, :], ignore_index=True)\n"
     ]
    },
    {
     "data": {
      "text/plain": [
       "(39, 73)"
      ]
     },
     "execution_count": 68,
     "metadata": {},
     "output_type": "execute_result"
    }
   ],
   "source": [
    "anom_1 = get_incidents(df, get_filter_mask_1)\n",
    "anom_1.shape"
   ]
  },
  {
   "cell_type": "code",
   "execution_count": 10,
   "metadata": {},
   "outputs": [],
   "source": [
    "anom_1.to_csv('data/incidents_1.csv')"
   ]
  },
  {
   "cell_type": "markdown",
   "metadata": {},
   "source": [
    "## 2 Заявки в статусе \"закрытые\" но на деле нет\n",
    "\n",
    "статус: закрытые/закрытые через МАРМ\n",
    "\n",
    "тип дефектов все кроме: \n",
    "    \n",
    "    - Ввод в эксплуатацию ИПУ воды (замена, демонтаж, пропуск межповерочного интервала),\n",
    "    - Подача документов о поверке ИПУ воды в электронном виде\n",
    "\n",
    "результативность: Выполнено\n",
    "\n",
    "отсутствует: Кол-во возвратов на доработку\n",
    "\n",
    "срок выполнения: >10\n",
    "\n",
    "один и тот же адресс и разница между временем заявки (Наименование дефекта)"
   ]
  },
  {
   "cell_type": "code",
   "execution_count": 64,
   "metadata": {},
   "outputs": [],
   "source": [
    "def get_filter_mask_2(df):\n",
    "  active_col = df['Наименование статуса заявки'].astype('str')\n",
    "  mask = active_col.map(lambda i: 'закрыт' in i.lower())\n",
    "\n",
    "  active_col = df['Наименование дефекта'].astype('str')\n",
    "  mask = np.logical_and( mask, \n",
    "                        active_col.map(lambda i:  not ( ('ввод в эксплуатацию ипу воды' in i.lower()) or \n",
    "                                                        ('подача документов о поверке' in i.lower()) ) )\n",
    "                      )\n",
    "\n",
    "  active_col = df['Результативность']\n",
    "  mask = np.logical_and( mask, \n",
    "                        active_col.map(lambda i: 'Выполнено' in i)\n",
    "                      )\n",
    "\n",
    "  active_col = df['created_time_diff']\n",
    "  mask = np.logical_and(mask,\n",
    "          active_col.map(lambda i: i>10))\n",
    "\n",
    "  return mask\n",
    "\n",
    "def get_incidents_2(df):\n",
    "  res = df[get_filter_mask_2(df)]\n",
    "  res = df.groupby([\"Адрес проблемы\", \"Наименование дефекта\"]).filter(lambda x: len(x)>1)\n",
    "  res = res.groupby([\"Адрес проблемы\", \"Наименование дефекта\"], group_keys=False).apply(lambda x: find_close_request(x))\n",
    "  return res\n"
   ]
  },
  {
   "cell_type": "code",
   "execution_count": 69,
   "metadata": {},
   "outputs": [
    {
     "name": "stderr",
     "output_type": "stream",
     "text": [
      "/tmp/ipykernel_7671/1467709850.py:11: FutureWarning: The frame.append method is deprecated and will be removed from pandas in a future version. Use pandas.concat instead.\n",
      "  res = df.append(df.iloc[j, :], ignore_index=True)\n"
     ]
    },
    {
     "data": {
      "text/plain": [
       "(39, 73)"
      ]
     },
     "execution_count": 69,
     "metadata": {},
     "output_type": "execute_result"
    }
   ],
   "source": [
    "anom_2 = get_incidents(df, get_filter_mask_2)\n",
    "anom_2.shape"
   ]
  },
  {
   "cell_type": "markdown",
   "metadata": {},
   "source": [
    "## 3 Быстрые невыполненные заявки\n",
    "статус: закрытые/закрытые через МАРМ\n",
    "\n",
    "результативность: Выполнено\n",
    "\n",
    "отсутствует: Кол-во возвратов на доработку\n",
    "\n",
    "срок выполнения: <10\n",
    "\n",
    "при этом работа требует меньше 10 (из приложения 2)\n",
    "\n",
    "один и тот же адресс и разница между временем заявки (Наименование дефекта)"
   ]
  },
  {
   "cell_type": "code",
   "execution_count": 71,
   "metadata": {},
   "outputs": [],
   "source": [
    "def get_filter_mask_3(df):\n",
    "  active_col = df['Наименование статуса заявки'].astype('str')\n",
    "  mask = active_col.map(lambda i: 'закрыт' in i.lower())\n",
    "\n",
    "  active_col = df['Результативность']\n",
    "  mask = np.logical_and( mask, \n",
    "                        active_col.map(lambda i: 'Выполнено' in i))\n",
    "\n",
    "  active_col = df['Кол-во возвратов на доработку']\n",
    "  mask = np.logical_and(mask,\n",
    "          active_col.map(lambda i: np.isnan(i)))\n",
    "\n",
    "  active_col = df['created_time_diff']\n",
    "  mask = np.logical_and(mask,\n",
    "          active_col.map(lambda i: i<10))\n",
    "  \n",
    "# вставить приложение два\n",
    "\n",
    "  return mask"
   ]
  },
  {
   "cell_type": "code",
   "execution_count": 72,
   "metadata": {},
   "outputs": [
    {
     "name": "stderr",
     "output_type": "stream",
     "text": [
      "/tmp/ipykernel_7671/1467709850.py:11: FutureWarning: The frame.append method is deprecated and will be removed from pandas in a future version. Use pandas.concat instead.\n",
      "  res = df.append(df.iloc[j, :], ignore_index=True)\n"
     ]
    },
    {
     "data": {
      "text/plain": [
       "(39, 73)"
      ]
     },
     "execution_count": 72,
     "metadata": {},
     "output_type": "execute_result"
    }
   ],
   "source": [
    "anom_3 = get_incidents(df, get_filter_mask_3)\n",
    "anom_3.shape"
   ]
  },
  {
   "cell_type": "markdown",
   "metadata": {},
   "source": [
    "## 4 Слишком быстрые заявки\n",
    "\n",
    "результативность: Выполнено\n",
    "\n",
    "срок выполнения: <10\n",
    "при этом работа требует больше 10\n",
    "\n",
    "количество возвратов на доработку: пусто\n"
   ]
  },
  {
   "cell_type": "code",
   "execution_count": 75,
   "metadata": {},
   "outputs": [],
   "source": [
    "def get_filter_mask_4(df):\n",
    "  active_col = df['Результативность']\n",
    "  mask = active_col.map(lambda i: 'Выполнено' in i)\n",
    "\n",
    "  active_col = df['Кол-во возвратов на доработку']\n",
    "  mask = np.logical_and(mask,\n",
    "          active_col.map(lambda i: np.isnan(i)))\n",
    "\n",
    "  active_col = df['created_time_diff']\n",
    "  mask = np.logical_and(mask,\n",
    "          active_col.map(lambda i: i<10))\n",
    "  \n",
    "# вставить приложение про больше 10 мин\n",
    "\n",
    "  return mask"
   ]
  },
  {
   "cell_type": "code",
   "execution_count": 76,
   "metadata": {},
   "outputs": [
    {
     "name": "stderr",
     "output_type": "stream",
     "text": [
      "/tmp/ipykernel_7671/1467709850.py:11: FutureWarning: The frame.append method is deprecated and will be removed from pandas in a future version. Use pandas.concat instead.\n",
      "  res = df.append(df.iloc[j, :], ignore_index=True)\n"
     ]
    },
    {
     "data": {
      "text/plain": [
       "(39, 73)"
      ]
     },
     "execution_count": 76,
     "metadata": {},
     "output_type": "execute_result"
    }
   ],
   "source": [
    "anom_4 = get_incidents(df, get_filter_mask_4)\n",
    "anom_4.shape"
   ]
  },
  {
   "cell_type": "markdown",
   "metadata": {},
   "source": [
    "## 5 возвращённые заявки\n",
    "\n",
    "статус: закрытые/закрытые через МАРМ\n",
    "\n",
    "Кол-во возвратов на доработку: не пусто и не 0\n",
    "\n",
    "Отобрать наименование дефектов из приложения 4\n",
    "\n",
    "Результативность: выполнено"
   ]
  },
  {
   "cell_type": "code",
   "execution_count": 82,
   "metadata": {},
   "outputs": [],
   "source": [
    "def get_filter_mask_5(df):\n",
    "  active_col = df['Наименование статуса заявки'].astype('str')\n",
    "  mask = active_col.map(lambda i: 'закрыт' in i.lower())\n",
    "\n",
    "  active_col = df['Результативность']\n",
    "  mask = np.logical_and( mask, \n",
    "                        active_col.map(lambda i: 'Выполнено' in i))\n",
    "\n",
    "  active_col = df['Кол-во возвратов на доработку']\n",
    "  mask = np.logical_and(mask,\n",
    "          active_col.map(lambda i: not (np.isnan(i) or i==0) ))\n",
    "\n",
    "# наименование дефектов из приложения 4\n",
    "\n",
    "  return mask"
   ]
  },
  {
   "cell_type": "code",
   "execution_count": 83,
   "metadata": {},
   "outputs": [
    {
     "name": "stderr",
     "output_type": "stream",
     "text": [
      "/tmp/ipykernel_7671/1467709850.py:11: FutureWarning: The frame.append method is deprecated and will be removed from pandas in a future version. Use pandas.concat instead.\n",
      "  res = df.append(df.iloc[j, :], ignore_index=True)\n"
     ]
    },
    {
     "data": {
      "text/plain": [
       "(39, 73)"
      ]
     },
     "execution_count": 83,
     "metadata": {},
     "output_type": "execute_result"
    }
   ],
   "source": [
    "anom_5 = get_incidents(df, get_filter_mask_5)\n",
    "anom_5.shape"
   ]
  },
  {
   "cell_type": "markdown",
   "metadata": {},
   "source": [
    "## соединение пунктов"
   ]
  },
  {
   "cell_type": "code",
   "execution_count": 99,
   "metadata": {},
   "outputs": [],
   "source": [
    "bad_mes = pd.concat([anom_1, anom_2, anom_3, anom_4, anom_5])\n",
    "bad_mes.drop_duplicates(inplace=True)"
   ]
  },
  {
   "cell_type": "code",
   "execution_count": 101,
   "metadata": {},
   "outputs": [
    {
     "data": {
      "text/html": [
       "<div>\n",
       "<style scoped>\n",
       "    .dataframe tbody tr th:only-of-type {\n",
       "        vertical-align: middle;\n",
       "    }\n",
       "\n",
       "    .dataframe tbody tr th {\n",
       "        vertical-align: top;\n",
       "    }\n",
       "\n",
       "    .dataframe thead th {\n",
       "        text-align: right;\n",
       "    }\n",
       "</style>\n",
       "<table border=\"1\" class=\"dataframe\">\n",
       "  <thead>\n",
       "    <tr style=\"text-align: right;\">\n",
       "      <th></th>\n",
       "      <th>Корневой ИД заявки</th>\n",
       "      <th>ИД версии заявки</th>\n",
       "      <th>Номер заявки</th>\n",
       "      <th>Уникальный номер обращения ГУ (mos.ru)</th>\n",
       "      <th>Дата создания заявки в формате Timezone</th>\n",
       "      <th>Дата начала действия версии заявки в формате Timezone</th>\n",
       "      <th>Наименование источника поступления заявки</th>\n",
       "      <th>Код источника поступления заявки</th>\n",
       "      <th>Имя создателя заявки</th>\n",
       "      <th>Признак инцидента</th>\n",
       "      <th>...</th>\n",
       "      <th>Оценка качества выполнения работ</th>\n",
       "      <th>Код оценки качества выполнения ра</th>\n",
       "      <th>Наименование категории платности</th>\n",
       "      <th>Код категории платности</th>\n",
       "      <th>Признак оплаты картой</th>\n",
       "      <th>repeated</th>\n",
       "      <th>unfinished</th>\n",
       "      <th>created_time_diff</th>\n",
       "      <th>beginin_time_diff</th>\n",
       "      <th>coordinates</th>\n",
       "    </tr>\n",
       "  </thead>\n",
       "  <tbody>\n",
       "    <tr>\n",
       "      <th>0</th>\n",
       "      <td>96254972</td>\n",
       "      <td>96299229</td>\n",
       "      <td>04472363/21</td>\n",
       "      <td>NaN</td>\n",
       "      <td>2021-09-20 17:33:56</td>\n",
       "      <td>2021-09-20 20:02:15</td>\n",
       "      <td>телефон</td>\n",
       "      <td>phone</td>\n",
       "      <td>voxcom</td>\n",
       "      <td>Нет</td>\n",
       "      <td>...</td>\n",
       "      <td>NaN</td>\n",
       "      <td>NaN</td>\n",
       "      <td>бесплатная</td>\n",
       "      <td>free</td>\n",
       "      <td>Нет</td>\n",
       "      <td>False</td>\n",
       "      <td>False</td>\n",
       "      <td>148.316667</td>\n",
       "      <td>0.0</td>\n",
       "      <td>NaN</td>\n",
       "    </tr>\n",
       "  </tbody>\n",
       "</table>\n",
       "<p>1 rows × 73 columns</p>\n",
       "</div>"
      ],
      "text/plain": [
       "   Корневой ИД заявки  ИД версии заявки Номер заявки  \\\n",
       "0            96254972          96299229  04472363/21   \n",
       "\n",
       "  Уникальный номер обращения ГУ (mos.ru)  \\\n",
       "0                                    NaN   \n",
       "\n",
       "  Дата создания заявки в формате Timezone  \\\n",
       "0                     2021-09-20 17:33:56   \n",
       "\n",
       "  Дата начала действия версии заявки в формате Timezone  \\\n",
       "0                                2021-09-20 20:02:15      \n",
       "\n",
       "  Наименование источника поступления заявки Код источника поступления заявки  \\\n",
       "0                                   телефон                            phone   \n",
       "\n",
       "  Имя создателя заявки Признак инцидента  ...  \\\n",
       "0               voxcom               Нет  ...   \n",
       "\n",
       "   Оценка качества выполнения работ Код оценки качества выполнения ра  \\\n",
       "0                               NaN                               NaN   \n",
       "\n",
       "  Наименование категории платности Код категории платности  \\\n",
       "0                       бесплатная                    free   \n",
       "\n",
       "  Признак оплаты картой repeated  unfinished created_time_diff  \\\n",
       "0                   Нет    False       False        148.316667   \n",
       "\n",
       "  beginin_time_diff coordinates  \n",
       "0               0.0         NaN  \n",
       "\n",
       "[1 rows x 73 columns]"
      ]
     },
     "execution_count": 101,
     "metadata": {},
     "output_type": "execute_result"
    }
   ],
   "source": [
    "bad_mes.head(1)"
   ]
  },
  {
   "cell_type": "code",
   "execution_count": 102,
   "metadata": {},
   "outputs": [
    {
     "ename": "TypeError",
     "evalue": "'float' object is not subscriptable",
     "output_type": "error",
     "traceback": [
      "\u001b[0;31m---------------------------------------------------------------------------\u001b[0m",
      "\u001b[0;31mTypeError\u001b[0m                                 Traceback (most recent call last)",
      "Cell \u001b[0;32mIn [102], line 9\u001b[0m\n\u001b[1;32m      7\u001b[0m         \u001b[39mprint\u001b[39m(\u001b[39m'\u001b[39m\u001b[39mnot_passed\u001b[39m\u001b[39m'\u001b[39m)\n\u001b[1;32m      8\u001b[0m         \u001b[39mreturn\u001b[39;00m \u001b[39m0\u001b[39m\n\u001b[0;32m----> 9\u001b[0m df[\u001b[39m'\u001b[39;49m\u001b[39mcolor\u001b[39;49m\u001b[39m'\u001b[39;49m]\u001b[39m.\u001b[39;49mmap(encode_anomalies)\n",
      "File \u001b[0;32m~/miniconda3/envs/django/lib/python3.10/site-packages/pandas/core/series.py:4539\u001b[0m, in \u001b[0;36mSeries.map\u001b[0;34m(self, arg, na_action)\u001b[0m\n\u001b[1;32m   4460\u001b[0m \u001b[39mdef\u001b[39;00m \u001b[39mmap\u001b[39m(\n\u001b[1;32m   4461\u001b[0m     \u001b[39mself\u001b[39m,\n\u001b[1;32m   4462\u001b[0m     arg: Callable \u001b[39m|\u001b[39m Mapping \u001b[39m|\u001b[39m Series,\n\u001b[1;32m   4463\u001b[0m     na_action: Literal[\u001b[39m\"\u001b[39m\u001b[39mignore\u001b[39m\u001b[39m\"\u001b[39m] \u001b[39m|\u001b[39m \u001b[39mNone\u001b[39;00m \u001b[39m=\u001b[39m \u001b[39mNone\u001b[39;00m,\n\u001b[1;32m   4464\u001b[0m ) \u001b[39m-\u001b[39m\u001b[39m>\u001b[39m Series:\n\u001b[1;32m   4465\u001b[0m     \u001b[39m\"\"\"\u001b[39;00m\n\u001b[1;32m   4466\u001b[0m \u001b[39m    Map values of Series according to an input mapping or function.\u001b[39;00m\n\u001b[1;32m   4467\u001b[0m \n\u001b[0;32m   (...)\u001b[0m\n\u001b[1;32m   4537\u001b[0m \u001b[39m    dtype: object\u001b[39;00m\n\u001b[1;32m   4538\u001b[0m \u001b[39m    \"\"\"\u001b[39;00m\n\u001b[0;32m-> 4539\u001b[0m     new_values \u001b[39m=\u001b[39m \u001b[39mself\u001b[39;49m\u001b[39m.\u001b[39;49m_map_values(arg, na_action\u001b[39m=\u001b[39;49mna_action)\n\u001b[1;32m   4540\u001b[0m     \u001b[39mreturn\u001b[39;00m \u001b[39mself\u001b[39m\u001b[39m.\u001b[39m_constructor(new_values, index\u001b[39m=\u001b[39m\u001b[39mself\u001b[39m\u001b[39m.\u001b[39mindex)\u001b[39m.\u001b[39m__finalize__(\n\u001b[1;32m   4541\u001b[0m         \u001b[39mself\u001b[39m, method\u001b[39m=\u001b[39m\u001b[39m\"\u001b[39m\u001b[39mmap\u001b[39m\u001b[39m\"\u001b[39m\n\u001b[1;32m   4542\u001b[0m     )\n",
      "File \u001b[0;32m~/miniconda3/envs/django/lib/python3.10/site-packages/pandas/core/base.py:890\u001b[0m, in \u001b[0;36mIndexOpsMixin._map_values\u001b[0;34m(self, mapper, na_action)\u001b[0m\n\u001b[1;32m    887\u001b[0m         \u001b[39mraise\u001b[39;00m \u001b[39mValueError\u001b[39;00m(msg)\n\u001b[1;32m    889\u001b[0m \u001b[39m# mapper is a function\u001b[39;00m\n\u001b[0;32m--> 890\u001b[0m new_values \u001b[39m=\u001b[39m map_f(values, mapper)\n\u001b[1;32m    892\u001b[0m \u001b[39mreturn\u001b[39;00m new_values\n",
      "File \u001b[0;32m~/miniconda3/envs/django/lib/python3.10/site-packages/pandas/_libs/lib.pyx:2918\u001b[0m, in \u001b[0;36mpandas._libs.lib.map_infer\u001b[0;34m()\u001b[0m\n",
      "Cell \u001b[0;32mIn [102], line 3\u001b[0m, in \u001b[0;36mencode_anomalies\u001b[0;34m(row)\u001b[0m\n\u001b[1;32m      2\u001b[0m \u001b[39mdef\u001b[39;00m \u001b[39mencode_anomalies\u001b[39m(row):\n\u001b[0;32m----> 3\u001b[0m     \u001b[39mif\u001b[39;00m row[\u001b[39m'\u001b[39;49m\u001b[39mКорневой ИД заявки\u001b[39;49m\u001b[39m'\u001b[39;49m] \u001b[39min\u001b[39;00m bad_mes[\u001b[39m'\u001b[39m\u001b[39mКорневой ИД заявки\u001b[39m\u001b[39m'\u001b[39m]:\n\u001b[1;32m      4\u001b[0m         \u001b[39mprint\u001b[39m(\u001b[39m'\u001b[39m\u001b[39mpassed\u001b[39m\u001b[39m'\u001b[39m)\n\u001b[1;32m      5\u001b[0m         \u001b[39mreturn\u001b[39;00m \u001b[39m2\u001b[39m\n",
      "\u001b[0;31mTypeError\u001b[0m: 'float' object is not subscriptable"
     ]
    }
   ],
   "source": [
    "df['color'] = np.zeros(df.shape[0])\n",
    "def encode_anomalies(row):\n",
    "    if row['Корневой ИД заявки'] in bad_mes['Корневой ИД заявки']:\n",
    "        return 2\n",
    "    else:\n",
    "        return 0\n",
    "df['color'].map(encode_anomalies)"
   ]
  },
  {
   "cell_type": "code",
   "execution_count": null,
   "metadata": {},
   "outputs": [],
   "source": []
  },
  {
   "cell_type": "markdown",
   "metadata": {},
   "source": [
    "# Считывание координат"
   ]
  },
  {
   "cell_type": "code",
   "execution_count": 17,
   "metadata": {},
   "outputs": [],
   "source": [
    "geo_data = pd.read_csv('data_sanya.csv', sep='|', skiprows=1, low_memory=False)"
   ]
  },
  {
   "cell_type": "code",
   "execution_count": 19,
   "metadata": {},
   "outputs": [
    {
     "data": {
      "text/html": [
       "<div>\n",
       "<style scoped>\n",
       "    .dataframe tbody tr th:only-of-type {\n",
       "        vertical-align: middle;\n",
       "    }\n",
       "\n",
       "    .dataframe tbody tr th {\n",
       "        vertical-align: top;\n",
       "    }\n",
       "\n",
       "    .dataframe thead th {\n",
       "        text-align: right;\n",
       "    }\n",
       "</style>\n",
       "<table border=\"1\" class=\"dataframe\">\n",
       "  <thead>\n",
       "    <tr style=\"text-align: right;\">\n",
       "      <th></th>\n",
       "      <th>Упрощённое написание адреса или описание местоположения</th>\n",
       "      <th>geodata_center</th>\n",
       "    </tr>\n",
       "  </thead>\n",
       "  <tbody>\n",
       "    <tr>\n",
       "      <th>0</th>\n",
       "      <td>Косинская улица, дом 26А</td>\n",
       "      <td>{\"coordinates\":[37.8281893944955,55.7174827851...</td>\n",
       "    </tr>\n",
       "    <tr>\n",
       "      <th>8</th>\n",
       "      <td>улица Панфилова, дом 11, строение 1</td>\n",
       "      <td>{\"coordinates\":[37.4918057069316,55.8077713279...</td>\n",
       "    </tr>\n",
       "    <tr>\n",
       "      <th>26</th>\n",
       "      <td>9-я Парковая улица, дом 43/26</td>\n",
       "      <td>{\"coordinates\":[37.7984137523718,55.8022031297...</td>\n",
       "    </tr>\n",
       "    <tr>\n",
       "      <th>34</th>\n",
       "      <td>Фрязевская улица, дом 9, корпус 1</td>\n",
       "      <td>{\"coordinates\":[37.822531843712,55.74627944075...</td>\n",
       "    </tr>\n",
       "    <tr>\n",
       "      <th>45</th>\n",
       "      <td>улица Верхние Поля, дом 26А</td>\n",
       "      <td>{\"coordinates\":[37.7539178129885,55.6661694512...</td>\n",
       "    </tr>\n",
       "  </tbody>\n",
       "</table>\n",
       "</div>"
      ],
      "text/plain": [
       "   Упрощённое написание адреса или описание местоположения  \\\n",
       "0                            Косинская улица, дом 26А        \n",
       "8                 улица Панфилова, дом 11, строение 1        \n",
       "26                      9-я Парковая улица, дом 43/26        \n",
       "34                  Фрязевская улица, дом 9, корпус 1        \n",
       "45                        улица Верхние Поля, дом 26А        \n",
       "\n",
       "                                       geodata_center  \n",
       "0   {\"coordinates\":[37.8281893944955,55.7174827851...  \n",
       "8   {\"coordinates\":[37.4918057069316,55.8077713279...  \n",
       "26  {\"coordinates\":[37.7984137523718,55.8022031297...  \n",
       "34  {\"coordinates\":[37.822531843712,55.74627944075...  \n",
       "45  {\"coordinates\":[37.7539178129885,55.6661694512...  "
      ]
     },
     "execution_count": 19,
     "metadata": {},
     "output_type": "execute_result"
    }
   ],
   "source": [
    "geo_data = geo_data[['Упрощённое написание адреса или описание местоположения', 'geodata_center']]\n",
    "geo_data.dropna(axis='index', inplace=True)\n",
    "geo_data.head()"
   ]
  },
  {
   "cell_type": "code",
   "execution_count": 53,
   "metadata": {},
   "outputs": [],
   "source": [
    "def get_coordinates(adress):\n",
    "    coord = geo_data[geo_data.iloc[:,0] == adress]['geodata_center']\n",
    "    try:\n",
    "        coord = coord.iloc[0]\n",
    "        return coord[coord.index(\"[\")+1: coord.index(\"]\")]\n",
    "    except:\n",
    "        return np.nan\n",
    "\n",
    "df['coordinates'] = df['Адрес проблемы'].map(get_coordinates)\n"
   ]
  },
  {
   "cell_type": "code",
   "execution_count": 54,
   "metadata": {},
   "outputs": [],
   "source": [
    "df.to_csv('data/with_coordinates.csv', index=False, sep = '$')"
   ]
  }
 ],
 "metadata": {
  "kernelspec": {
   "display_name": "Python 3.10.6 ('django')",
   "language": "python",
   "name": "python3"
  },
  "language_info": {
   "codemirror_mode": {
    "name": "ipython",
    "version": 3
   },
   "file_extension": ".py",
   "mimetype": "text/x-python",
   "name": "python",
   "nbconvert_exporter": "python",
   "pygments_lexer": "ipython3",
   "version": "3.10.6"
  },
  "orig_nbformat": 4,
  "vscode": {
   "interpreter": {
    "hash": "3606df76f3d37824fa3c2e54643754beb456b52e95ac86cdbe89b9304c703526"
   }
  }
 },
 "nbformat": 4,
 "nbformat_minor": 2
}
