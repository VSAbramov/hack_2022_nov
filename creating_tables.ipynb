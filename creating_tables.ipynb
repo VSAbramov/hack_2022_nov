{
 "cells": [
  {
   "cell_type": "markdown",
   "metadata": {},
   "source": [
    "# Инициализация пакетов"
   ]
  },
  {
   "cell_type": "code",
   "execution_count": 1,
   "metadata": {},
   "outputs": [],
   "source": [
    "import numpy as np\n",
    "import pandas as pd\n",
    "\n",
    "from datetime import datetime"
   ]
  },
  {
   "cell_type": "code",
   "execution_count": 2,
   "metadata": {},
   "outputs": [
    {
     "name": "stderr",
     "output_type": "stream",
     "text": [
      "/tmp/ipykernel_25629/3821862338.py:2: DtypeWarning: Columns (34) have mixed types. Specify dtype option on import or set low_memory=False.\n",
      "  df = pd.read_csv('data/color_idx.csv', sep='$')\n"
     ]
    }
   ],
   "source": [
    "#df = pd.read_excel('data/sample.xlsx')\n",
    "df = pd.read_csv('data/color_idx.csv', sep='$')"
   ]
  },
  {
   "cell_type": "markdown",
   "metadata": {},
   "source": [
    "# Добавление новы переменных"
   ]
  },
  {
   "cell_type": "code",
   "execution_count": 26,
   "metadata": {},
   "outputs": [],
   "source": [
    "# добавление переменной повторное обращение\n",
    "df['repeated'] = df['Вид выполненных работ'].map(lambda i: 'повторное обращение' in i.lower())\n",
    "# добавление переменной невыполненных работ\n",
    "df['unfinished'] = df['Отзыв'].astype('str').map(lambda i: 'работы не выполнены' in i.lower())"
   ]
  },
  {
   "cell_type": "code",
   "execution_count": 6,
   "metadata": {},
   "outputs": [],
   "source": [
    "# оценка жителей\n",
    "# признак инцидента\n",
    "# травм. опасные случаи\n",
    "# Отзыв\n",
    "# Оценка качества выполнения работ\n",
    "# Код оценки качества выполнения ра"
   ]
  },
  {
   "cell_type": "markdown",
   "metadata": {},
   "source": [
    "# Разница по времени в минутах между началом и закрытием"
   ]
  },
  {
   "cell_type": "code",
   "execution_count": 3,
   "metadata": {},
   "outputs": [],
   "source": [
    "def count_time_dif(strart_date, end_date):\n",
    "    return (end_date - strart_date).total_seconds()/60\n",
    "\n",
    "created_date = df['Дата создания заявки в формате Timezone']\n",
    "beginin_date = df['Дата начала действия версии заявки в формате Timezone']\n",
    "closure_date = df['Дата закрытия']\n",
    "\n",
    "# removing endings\n",
    "# created_date = created_date.map(lambda t_str: t_str[:t_str.index(\".\")])\n",
    "# beginin_date = beginin_date.map(lambda t_str: t_str[:t_str.index(\".\")])\n",
    "# closure_date = closure_date.map(lambda t_str: t_str[:t_str.index(\".\")])\n",
    "\n",
    "# encoding to datetime\n",
    "created_date = created_date.map(lambda x: datetime.strptime(x, \"%Y-%m-%d %H:%M:%S\")) \n",
    "beginin_date = beginin_date.map(lambda x: datetime.strptime(x, \"%Y-%m-%d %H:%M:%S\")) \n",
    "closure_date = closure_date.map(lambda x: datetime.strptime(x, \"%Y-%m-%d %H:%M:%S\")) \n",
    "\n",
    "df['Дата создания заявки в формате Timezone'] = created_date\n",
    "df['Дата начала действия версии заявки в формате Timezone'] = beginin_date\n",
    "df['Дата закрытия'] = closure_date"
   ]
  },
  {
   "cell_type": "code",
   "execution_count": null,
   "metadata": {},
   "outputs": [],
   "source": [
    "# подсчёт разницы во времени\n",
    "df['created_time_diff'] = df.apply(lambda x: count_time_dif(x['Дата создания заявки в формате Timezone'], x['Дата закрытия']), axis=1)\n",
    "df['beginin_time_diff'] = df.apply(lambda x: count_time_dif(x['Дата начала действия версии заявки в формате Timezone'], x['Дата закрытия']), axis=1)"
   ]
  },
  {
   "cell_type": "markdown",
   "metadata": {},
   "source": [
    "# Критерии аномальности"
   ]
  },
  {
   "cell_type": "code",
   "execution_count": 4,
   "metadata": {},
   "outputs": [],
   "source": [
    "def find_close_request(df, bnd_time_dif = 72*60):\n",
    "    created = False\n",
    "    res = pd.DataFrame(columns = df.columns)\n",
    "    for i in range(df.shape[0]):\n",
    "        for j in range(i):\n",
    "            open_idx = df.columns.get_loc('Дата создания заявки в формате Timezone')\n",
    "            close_idx = df.columns.get_loc('Дата закрытия')\n",
    "            time_dif = count_time_dif(df.iloc[j, open_idx], df.iloc[i, close_idx])\n",
    "            if time_dif < bnd_time_dif:\n",
    "                if not created:\n",
    "                    res = df.append(df.iloc[j, :], ignore_index=True)\n",
    "                    created = True\n",
    "                else:\n",
    "                    res = df.append(df.iloc[j, :], ignore_index=True)\n",
    "    if created:\n",
    "        return res\n",
    "\n",
    "def get_incidents(df, get_filter_mask):\n",
    "  res = df[get_filter_mask(df)]\n",
    "  res = df.groupby([\"Адрес проблемы\", \"Наименование дефекта\"]).filter(lambda x: len(x)>1)\n",
    "  res = res.groupby([\"Адрес проблемы\", \"Наименование дефекта\"], group_keys=False).apply(lambda x: find_close_request(x))\n",
    "  return res"
   ]
  },
  {
   "cell_type": "markdown",
   "metadata": {},
   "source": [
    "## 1 Заявки закрытые без выполнения\n",
    "\n",
    "статус: закрытые/закрытые через МАРМ\n",
    "\n",
    "тип дефектов все кроме: \n",
    "    \n",
    "    - Ввод в эксплуатацию ИПУ воды (замена, демонтаж, пропуск межповерочного интервала),\n",
    "    - Подача документов о поверке ИПУ воды в электронном виде\n",
    "\n",
    "результативность кроме: Выполнено\n",
    "\n",
    "результат закрытия кроме: Аварийное/плановое отключение\n",
    "\n",
    "тип дефекта один и тот же"
   ]
  },
  {
   "cell_type": "code",
   "execution_count": 5,
   "metadata": {},
   "outputs": [],
   "source": [
    "def get_filter_mask_1(df):\n",
    "  active_col = df['Наименование статуса заявки'].astype('str')\n",
    "  mask = active_col.map(lambda i: 'закрыт' in i.lower())\n",
    "\n",
    "  active_col = df['Наименование дефекта'].astype('str')\n",
    "  mask = np.logical_and( mask, \n",
    "                        active_col.map(lambda i:  not ( ('ввод в эксплуатацию ипу воды' in i.lower()) or \n",
    "                                                        ('подача документов о поверке' in i.lower()) ) )\n",
    "                      )\n",
    "\n",
    "  active_col = df['Результативность']\n",
    "  mask = np.logical_and( mask, \n",
    "                        active_col.map(lambda i: 'Выполнено' not in i)\n",
    "                      )\n",
    "\n",
    "  active_col = df['Вид выполненных работ']\n",
    "  mask = np.logical_and( mask, \n",
    "                        active_col.map(lambda i: 'Аварийное/плановое отключение' not in i)\n",
    "                      )\n",
    "  return mask"
   ]
  },
  {
   "cell_type": "code",
   "execution_count": 6,
   "metadata": {},
   "outputs": [
    {
     "name": "stderr",
     "output_type": "stream",
     "text": [
      "/tmp/ipykernel_25629/1467709850.py:11: FutureWarning: The frame.append method is deprecated and will be removed from pandas in a future version. Use pandas.concat instead.\n",
      "  res = df.append(df.iloc[j, :], ignore_index=True)\n"
     ]
    },
    {
     "data": {
      "text/plain": [
       "(39, 74)"
      ]
     },
     "execution_count": 6,
     "metadata": {},
     "output_type": "execute_result"
    }
   ],
   "source": [
    "anom_1 = get_incidents(df, get_filter_mask_1)\n",
    "anom_1.shape"
   ]
  },
  {
   "cell_type": "markdown",
   "metadata": {},
   "source": [
    "## 2 Заявки в статусе \"закрытые\" но на деле нет\n",
    "\n",
    "статус: закрытые/закрытые через МАРМ\n",
    "\n",
    "тип дефектов все кроме: \n",
    "    \n",
    "    - Ввод в эксплуатацию ИПУ воды (замена, демонтаж, пропуск межповерочного интервала),\n",
    "    - Подача документов о поверке ИПУ воды в электронном виде\n",
    "\n",
    "результативность: Выполнено\n",
    "\n",
    "отсутствует: Кол-во возвратов на доработку\n",
    "\n",
    "срок выполнения: >10\n",
    "\n",
    "один и тот же адресс и разница между временем заявки (Наименование дефекта)"
   ]
  },
  {
   "cell_type": "code",
   "execution_count": 7,
   "metadata": {},
   "outputs": [],
   "source": [
    "def get_filter_mask_2(df):\n",
    "  active_col = df['Наименование статуса заявки'].astype('str')\n",
    "  mask = active_col.map(lambda i: 'закрыт' in i.lower())\n",
    "\n",
    "  active_col = df['Наименование дефекта'].astype('str')\n",
    "  mask = np.logical_and( mask, \n",
    "                        active_col.map(lambda i:  not ( ('ввод в эксплуатацию ипу воды' in i.lower()) or \n",
    "                                                        ('подача документов о поверке' in i.lower()) ) )\n",
    "                      )\n",
    "\n",
    "  active_col = df['Результативность']\n",
    "  mask = np.logical_and( mask, \n",
    "                        active_col.map(lambda i: 'Выполнено' in i)\n",
    "                      )\n",
    "\n",
    "  active_col = df['created_time_diff']\n",
    "  mask = np.logical_and(mask,\n",
    "          active_col.map(lambda i: i>10))\n",
    "\n",
    "  return mask\n",
    "\n",
    "def get_incidents_2(df):\n",
    "  res = df[get_filter_mask_2(df)]\n",
    "  res = df.groupby([\"Адрес проблемы\", \"Наименование дефекта\"]).filter(lambda x: len(x)>1)\n",
    "  res = res.groupby([\"Адрес проблемы\", \"Наименование дефекта\"], group_keys=False).apply(lambda x: find_close_request(x))\n",
    "  return res\n"
   ]
  },
  {
   "cell_type": "code",
   "execution_count": 8,
   "metadata": {},
   "outputs": [
    {
     "name": "stderr",
     "output_type": "stream",
     "text": [
      "/tmp/ipykernel_25629/1467709850.py:11: FutureWarning: The frame.append method is deprecated and will be removed from pandas in a future version. Use pandas.concat instead.\n",
      "  res = df.append(df.iloc[j, :], ignore_index=True)\n"
     ]
    },
    {
     "data": {
      "text/plain": [
       "(39, 74)"
      ]
     },
     "execution_count": 8,
     "metadata": {},
     "output_type": "execute_result"
    }
   ],
   "source": [
    "anom_2 = get_incidents(df, get_filter_mask_2)\n",
    "anom_2.shape"
   ]
  },
  {
   "cell_type": "markdown",
   "metadata": {},
   "source": [
    "## 3 Быстрые невыполненные заявки\n",
    "статус: закрытые/закрытые через МАРМ\n",
    "\n",
    "результативность: Выполнено\n",
    "\n",
    "отсутствует: Кол-во возвратов на доработку\n",
    "\n",
    "срок выполнения: <10\n",
    "\n",
    "при этом работа требует меньше 10 (из приложения 2)\n",
    "\n",
    "один и тот же адресс и разница между временем заявки (Наименование дефекта)"
   ]
  },
  {
   "cell_type": "code",
   "execution_count": 9,
   "metadata": {},
   "outputs": [],
   "source": [
    "def get_filter_mask_3(df):\n",
    "  app_2 = pd.read_csv('data/extensions/app_2.csv', sep = '$')        \n",
    "  active_col = df['Наименование статуса заявки'].astype('str')\n",
    "  mask = active_col.map(lambda i: 'закрыт' in i.lower())\n",
    "\n",
    "  active_col = df['Результативность']\n",
    "  mask = np.logical_and( mask, \n",
    "                        active_col.map(lambda i: 'Выполнено' in i))\n",
    "\n",
    "  active_col = df['Кол-во возвратов на доработку']\n",
    "  mask = np.logical_and(mask,\n",
    "          active_col.map(lambda i: np.isnan(i)))\n",
    "\n",
    "  active_col = df['created_time_diff']\n",
    "  mask = np.logical_and(mask,\n",
    "          active_col.map(lambda i: i<10))\n",
    "  \n",
    "  active_col = df['Наименование дефекта']\n",
    "  mask = np.logical_and(mask, \n",
    "                active_col.isin(app_2['тип дефекта']))\n",
    "\n",
    "  return mask"
   ]
  },
  {
   "cell_type": "code",
   "execution_count": 10,
   "metadata": {},
   "outputs": [
    {
     "name": "stderr",
     "output_type": "stream",
     "text": [
      "/tmp/ipykernel_25629/1467709850.py:11: FutureWarning: The frame.append method is deprecated and will be removed from pandas in a future version. Use pandas.concat instead.\n",
      "  res = df.append(df.iloc[j, :], ignore_index=True)\n"
     ]
    },
    {
     "data": {
      "text/plain": [
       "(39, 74)"
      ]
     },
     "execution_count": 10,
     "metadata": {},
     "output_type": "execute_result"
    }
   ],
   "source": [
    "anom_3 = get_incidents(df, get_filter_mask_3)\n",
    "anom_3.shape"
   ]
  },
  {
   "cell_type": "markdown",
   "metadata": {},
   "source": [
    "## 4 Слишком быстрые заявки\n",
    "\n",
    "результативность: Выполнено\n",
    "\n",
    "срок выполнения: <10\n",
    "при этом работа требует больше 10\n",
    "\n",
    "количество возвратов на доработку: пусто\n"
   ]
  },
  {
   "cell_type": "code",
   "execution_count": 11,
   "metadata": {},
   "outputs": [],
   "source": [
    "def get_filter_mask_4(df):\n",
    "  app_2 = pd.read_csv('data/extensions/app_2.csv', sep = '$')                \n",
    "  active_col = df['Результативность']\n",
    "  mask = active_col.map(lambda i: 'Выполнено' in i)\n",
    "\n",
    "  active_col = df['Кол-во возвратов на доработку']\n",
    "  mask = np.logical_and(mask,\n",
    "          active_col.map(lambda i: np.isnan(i)))\n",
    "\n",
    "  active_col = df['created_time_diff']\n",
    "  mask = np.logical_and(mask,\n",
    "          active_col.map(lambda i: i<10))\n",
    "  \n",
    "# вставить приложение про больше 10 мин\n",
    "  active_col = df['Наименование дефекта']\n",
    "  mask = np.logical_and(mask, \n",
    "                ~active_col.isin(app_2['тип дефекта']))\n",
    "\n",
    "  return mask"
   ]
  },
  {
   "cell_type": "code",
   "execution_count": 12,
   "metadata": {},
   "outputs": [
    {
     "name": "stderr",
     "output_type": "stream",
     "text": [
      "/tmp/ipykernel_25629/1467709850.py:11: FutureWarning: The frame.append method is deprecated and will be removed from pandas in a future version. Use pandas.concat instead.\n",
      "  res = df.append(df.iloc[j, :], ignore_index=True)\n"
     ]
    },
    {
     "data": {
      "text/plain": [
       "(39, 74)"
      ]
     },
     "execution_count": 12,
     "metadata": {},
     "output_type": "execute_result"
    }
   ],
   "source": [
    "anom_4 = get_incidents(df, get_filter_mask_4)\n",
    "anom_4.shape"
   ]
  },
  {
   "cell_type": "markdown",
   "metadata": {},
   "source": [
    "## 5 возвращённые заявки\n",
    "\n",
    "статус: закрытые/закрытые через МАРМ\n",
    "\n",
    "Кол-во возвратов на доработку: не пусто и не 0\n",
    "\n",
    "Отобрать наименование дефектов из приложения 4\n",
    "\n",
    "Результативность: выполнено"
   ]
  },
  {
   "cell_type": "code",
   "execution_count": 13,
   "metadata": {},
   "outputs": [],
   "source": [
    "def get_filter_mask_5(df):\n",
    "  app_4 = pd.read_csv('data/extensions/app_4.csv', sep='$')\n",
    "  active_col = df['Наименование статуса заявки'].astype('str')\n",
    "  mask = active_col.map(lambda i: 'закрыт' in i.lower())\n",
    "\n",
    "  active_col = df['Результативность']\n",
    "  mask = np.logical_and( mask, \n",
    "                        active_col.map(lambda i: 'Выполнено' in i))\n",
    "\n",
    "  active_col = df['Кол-во возвратов на доработку']\n",
    "  mask = np.logical_and(mask,\n",
    "          active_col.map(lambda i: not (np.isnan(i) or i==0) ))\n",
    "\n",
    "  active_col = df['Идентификатор дефекта']\n",
    "  mask = np.logical_and(mask, \n",
    "                active_col.isin(app_4['Идентификатор']))\n",
    "\n",
    "  return mask"
   ]
  },
  {
   "cell_type": "code",
   "execution_count": 14,
   "metadata": {},
   "outputs": [
    {
     "name": "stderr",
     "output_type": "stream",
     "text": [
      "/tmp/ipykernel_25629/1467709850.py:11: FutureWarning: The frame.append method is deprecated and will be removed from pandas in a future version. Use pandas.concat instead.\n",
      "  res = df.append(df.iloc[j, :], ignore_index=True)\n"
     ]
    },
    {
     "data": {
      "text/plain": [
       "(39, 74)"
      ]
     },
     "execution_count": 14,
     "metadata": {},
     "output_type": "execute_result"
    }
   ],
   "source": [
    "anom_5 = get_incidents(df, get_filter_mask_5)\n",
    "anom_5.shape"
   ]
  },
  {
   "cell_type": "markdown",
   "metadata": {},
   "source": [
    "## соединение пунктов"
   ]
  },
  {
   "cell_type": "code",
   "execution_count": 15,
   "metadata": {},
   "outputs": [],
   "source": [
    "bad_mes = pd.concat([anom_1, anom_2, anom_3, anom_4, anom_5])\n",
    "bad_mes.drop_duplicates(inplace=True)"
   ]
  },
  {
   "cell_type": "code",
   "execution_count": 16,
   "metadata": {},
   "outputs": [],
   "source": [
    "df.loc[df['Корневой ИД заявки'].isin(bad_mes['Корневой ИД заявки']), 'color'] = 2"
   ]
  },
  {
   "cell_type": "code",
   "execution_count": 18,
   "metadata": {},
   "outputs": [],
   "source": [
    "df.to_csv('data/final/applics.csv', index=False, sep = '$')"
   ]
  },
  {
   "cell_type": "markdown",
   "metadata": {},
   "source": [
    "# Считывание координат"
   ]
  },
  {
   "cell_type": "code",
   "execution_count": 17,
   "metadata": {},
   "outputs": [],
   "source": [
    "geo_data = pd.read_csv('data_sanya.csv', sep='|', skiprows=1, low_memory=False)"
   ]
  },
  {
   "cell_type": "code",
   "execution_count": 19,
   "metadata": {},
   "outputs": [
    {
     "data": {
      "text/html": [
       "<div>\n",
       "<style scoped>\n",
       "    .dataframe tbody tr th:only-of-type {\n",
       "        vertical-align: middle;\n",
       "    }\n",
       "\n",
       "    .dataframe tbody tr th {\n",
       "        vertical-align: top;\n",
       "    }\n",
       "\n",
       "    .dataframe thead th {\n",
       "        text-align: right;\n",
       "    }\n",
       "</style>\n",
       "<table border=\"1\" class=\"dataframe\">\n",
       "  <thead>\n",
       "    <tr style=\"text-align: right;\">\n",
       "      <th></th>\n",
       "      <th>Упрощённое написание адреса или описание местоположения</th>\n",
       "      <th>geodata_center</th>\n",
       "    </tr>\n",
       "  </thead>\n",
       "  <tbody>\n",
       "    <tr>\n",
       "      <th>0</th>\n",
       "      <td>Косинская улица, дом 26А</td>\n",
       "      <td>{\"coordinates\":[37.8281893944955,55.7174827851...</td>\n",
       "    </tr>\n",
       "    <tr>\n",
       "      <th>8</th>\n",
       "      <td>улица Панфилова, дом 11, строение 1</td>\n",
       "      <td>{\"coordinates\":[37.4918057069316,55.8077713279...</td>\n",
       "    </tr>\n",
       "    <tr>\n",
       "      <th>26</th>\n",
       "      <td>9-я Парковая улица, дом 43/26</td>\n",
       "      <td>{\"coordinates\":[37.7984137523718,55.8022031297...</td>\n",
       "    </tr>\n",
       "    <tr>\n",
       "      <th>34</th>\n",
       "      <td>Фрязевская улица, дом 9, корпус 1</td>\n",
       "      <td>{\"coordinates\":[37.822531843712,55.74627944075...</td>\n",
       "    </tr>\n",
       "    <tr>\n",
       "      <th>45</th>\n",
       "      <td>улица Верхние Поля, дом 26А</td>\n",
       "      <td>{\"coordinates\":[37.7539178129885,55.6661694512...</td>\n",
       "    </tr>\n",
       "  </tbody>\n",
       "</table>\n",
       "</div>"
      ],
      "text/plain": [
       "   Упрощённое написание адреса или описание местоположения  \\\n",
       "0                            Косинская улица, дом 26А        \n",
       "8                 улица Панфилова, дом 11, строение 1        \n",
       "26                      9-я Парковая улица, дом 43/26        \n",
       "34                  Фрязевская улица, дом 9, корпус 1        \n",
       "45                        улица Верхние Поля, дом 26А        \n",
       "\n",
       "                                       geodata_center  \n",
       "0   {\"coordinates\":[37.8281893944955,55.7174827851...  \n",
       "8   {\"coordinates\":[37.4918057069316,55.8077713279...  \n",
       "26  {\"coordinates\":[37.7984137523718,55.8022031297...  \n",
       "34  {\"coordinates\":[37.822531843712,55.74627944075...  \n",
       "45  {\"coordinates\":[37.7539178129885,55.6661694512...  "
      ]
     },
     "execution_count": 19,
     "metadata": {},
     "output_type": "execute_result"
    }
   ],
   "source": [
    "geo_data = geo_data[['Упрощённое написание адреса или описание местоположения', 'geodata_center']]\n",
    "geo_data.dropna(axis='index', inplace=True)\n",
    "geo_data.head()"
   ]
  },
  {
   "cell_type": "code",
   "execution_count": 53,
   "metadata": {},
   "outputs": [],
   "source": [
    "def get_coordinates(adress):\n",
    "    coord = geo_data[geo_data.iloc[:,0] == adress]['geodata_center']\n",
    "    try:\n",
    "        coord = coord.iloc[0]\n",
    "        return coord[coord.index(\"[\")+1: coord.index(\"]\")]\n",
    "    except:\n",
    "        return np.nan\n",
    "\n",
    "df['coordinates'] = df['Адрес проблемы'].map(get_coordinates)\n"
   ]
  },
  {
   "cell_type": "code",
   "execution_count": 54,
   "metadata": {},
   "outputs": [],
   "source": [
    "df.to_csv('data/with_coordinates.csv', index=False, sep = '$')"
   ]
  },
  {
   "cell_type": "markdown",
   "metadata": {},
   "source": [
    "# Добавление новых таблиц"
   ]
  },
  {
   "cell_type": "code",
   "execution_count": 17,
   "metadata": {},
   "outputs": [
    {
     "name": "stderr",
     "output_type": "stream",
     "text": [
      "/tmp/ipykernel_25629/1925870112.py:1: FutureWarning: In a future version of pandas all arguments of StringMethods.split except for the argument 'pat' will be keyword-only.\n",
      "  df[['x', 'y']] = df['coordinates'].str.split(',', 1, expand=True)\n"
     ]
    }
   ],
   "source": [
    "df[['x', 'y']] = df['coordinates'].str.split(',', 1, expand=True)"
   ]
  },
  {
   "cell_type": "markdown",
   "metadata": {},
   "source": [
    "## ЖКХ"
   ]
  },
  {
   "cell_type": "code",
   "execution_count": 19,
   "metadata": {},
   "outputs": [],
   "source": [
    "df['color'] = df['color'].astype('int')"
   ]
  },
  {
   "cell_type": "code",
   "execution_count": 20,
   "metadata": {},
   "outputs": [],
   "source": [
    "df['x'] = df['x'].astype('float')\n",
    "df['y'] = df['y'].astype('float')"
   ]
  },
  {
   "cell_type": "code",
   "execution_count": 21,
   "metadata": {},
   "outputs": [
    {
     "name": "stderr",
     "output_type": "stream",
     "text": [
      "/tmp/ipykernel_25629/3715249134.py:2: FutureWarning: Indexing with multiple keys (implicitly converted to a tuple of keys) will be deprecated, use a list instead.\n",
      "  coord_grouped = df.groupby(['Наименование управляющей компании'])['x', 'y'].agg('mean')\n"
     ]
    }
   ],
   "source": [
    "color_grouped = df.groupby(['Наименование управляющей компании'])['color'].agg('sum')\n",
    "coord_grouped = df.groupby(['Наименование управляющей компании'])['x', 'y'].agg('mean')\n",
    "res = pd.concat([coord_grouped, color_grouped], axis=1)"
   ]
  },
  {
   "cell_type": "code",
   "execution_count": 29,
   "metadata": {},
   "outputs": [],
   "source": [
    "res['color'] = res['color'].map(lambda x: 2 if x>0 else 0)"
   ]
  },
  {
   "cell_type": "code",
   "execution_count": 30,
   "metadata": {},
   "outputs": [],
   "source": [
    "res.to_csv('data/final/GBU.csv', sep='$')"
   ]
  },
  {
   "cell_type": "markdown",
   "metadata": {},
   "source": [
    "## Район"
   ]
  },
  {
   "cell_type": "code",
   "execution_count": 31,
   "metadata": {},
   "outputs": [
    {
     "name": "stderr",
     "output_type": "stream",
     "text": [
      "/tmp/ipykernel_25629/3553592071.py:2: FutureWarning: Indexing with multiple keys (implicitly converted to a tuple of keys) will be deprecated, use a list instead.\n",
      "  coord_grouped = df.groupby(['Наименование района'])['x', 'y'].agg('mean')\n"
     ]
    }
   ],
   "source": [
    "color_grouped = df.groupby(['Наименование района'])['color'].agg('sum')\n",
    "coord_grouped = df.groupby(['Наименование района'])['x', 'y'].agg('mean')\n",
    "res = pd.concat([coord_grouped, color_grouped], axis=1)"
   ]
  },
  {
   "cell_type": "code",
   "execution_count": 73,
   "metadata": {},
   "outputs": [],
   "source": [
    "# res = df.groupby('Наименование района')['color'].value_counts().unstack().fillna(0)\n",
    "# res.head()"
   ]
  },
  {
   "cell_type": "code",
   "execution_count": 35,
   "metadata": {},
   "outputs": [],
   "source": [
    "res['color'] = res['color'].map(lambda x: 2 if x>0 else 0)"
   ]
  },
  {
   "cell_type": "code",
   "execution_count": null,
   "metadata": {},
   "outputs": [],
   "source": []
  },
  {
   "cell_type": "code",
   "execution_count": 36,
   "metadata": {},
   "outputs": [],
   "source": [
    "res.to_csv('data/final/district.csv', sep='$')"
   ]
  }
 ],
 "metadata": {
  "kernelspec": {
   "display_name": "Python 3.10.6 ('django')",
   "language": "python",
   "name": "python3"
  },
  "language_info": {
   "codemirror_mode": {
    "name": "ipython",
    "version": 3
   },
   "file_extension": ".py",
   "mimetype": "text/x-python",
   "name": "python",
   "nbconvert_exporter": "python",
   "pygments_lexer": "ipython3",
   "version": "3.10.6"
  },
  "orig_nbformat": 4,
  "vscode": {
   "interpreter": {
    "hash": "3606df76f3d37824fa3c2e54643754beb456b52e95ac86cdbe89b9304c703526"
   }
  }
 },
 "nbformat": 4,
 "nbformat_minor": 2
}
